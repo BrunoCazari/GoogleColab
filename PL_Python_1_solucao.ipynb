{
  "nbformat": 4,
  "nbformat_minor": 0,
  "metadata": {
    "colab": {
      "name": "PL_Python_1_solucao.ipynb",
      "provenance": []
    },
    "kernelspec": {
      "name": "python3",
      "display_name": "Python 3"
    },
    "language_info": {
      "name": "python"
    }
  },
  "cells": [
    {
      "cell_type": "markdown",
      "metadata": {
        "id": "pqEhMdFQO3A-"
      },
      "source": [
        "<head>\n",
        "  <meta name=\"author\" content=\"Rogério de Oliveira\">\n",
        "  <meta institution=\"author\" content=\"Universidade Presbiteriana Mackenzie\">\n",
        "</head>\n",
        "\n",
        "<img src=\"http://meusite.mackenzie.br/rogerio/mackenzie_logo/UPM.2_horizontal_vermelho.jpg\" width=300, align=\"right\"> \n",
        "\n",
        "<h1 align=left><font size = 8, style=\"color:rgb(200,0,0)\"><b>Ciência de Dados </b></font></h1> \n",
        "<h1 align=left><font size = 5, style=\"color:rgb(0,0,0)\"><b>Paradigmas de Linguagens de\n",
        "Programação para Ciência de Dados</b></font></h1> \n",
        "\n",
        "# 1 Introdução à Programação Python\n",
        "Professores: *Diego Nogare* & *Rogério de Oliveira* \n",
        "\n",
        "<br>\n",
        "<br>\n",
        "\n",
        "---\n"
      ]
    },
    {
      "cell_type": "markdown",
      "metadata": {
        "id": "42yF1G-yHu98"
      },
      "source": [
        "# Exercícios"
      ]
    },
    {
      "cell_type": "markdown",
      "metadata": {
        "id": "BDm3FTRtWXCY"
      },
      "source": [
        "Em todos os exercícios execute o código abaixo como a primeira instrução e uma única vez para gerar os valores de `letras` e `lista`.\n",
        "\n",
        "Todos exercícios possuem várias soluções possíveis, mas não se preocupe com isso. A melhor solução é primeiro, a que funciona para você!"
      ]
    },
    {
      "cell_type": "code",
      "metadata": {
        "colab": {
          "base_uri": "https://localhost:8080/"
        },
        "id": "xBjopVrbVgb5",
        "outputId": "8aea03a7-435b-47db-c39b-e66800ecca5e"
      },
      "source": [
        "import numpy as np\n",
        "import random\n",
        "from random import choices\n",
        "import string\n",
        "\n",
        "random.seed(1234)\n",
        "letras = choices(string.ascii_lowercase,k=100)\n",
        "lista = random.sample(range(1, 10000), 1000)\n",
        "print(np.array(lista).sum() == 5244799) # precisa retornar True!"
      ],
      "execution_count": 8,
      "outputs": [
        {
          "output_type": "stream",
          "text": [
            "True\n"
          ],
          "name": "stdout"
        }
      ]
    },
    {
      "cell_type": "markdown",
      "metadata": {
        "id": "XEngnerfXmKX"
      },
      "source": [
        "1. Dos valores [9887, 3233, 813] qual o índice dos valores presentes em  `lista`? "
      ]
    },
    {
      "cell_type": "code",
      "metadata": {
        "colab": {
          "base_uri": "https://localhost:8080/"
        },
        "id": "8KlbNKnHR6VZ",
        "outputId": "0bdf5762-f5e3-4a07-e0a2-f48bff6877e7"
      },
      "source": [
        "for valor in [9887, 3233, 813]:\n",
        "  try:\n",
        "    print(valor, lista.index(valor))\n",
        "  except:\n",
        "    print(valor, 'ausente')\n",
        "    continue \n"
      ],
      "execution_count": 9,
      "outputs": [
        {
          "output_type": "stream",
          "text": [
            "9887 877\n",
            "3233 680\n",
            "813 ausente\n"
          ],
          "name": "stdout"
        }
      ]
    },
    {
      "cell_type": "markdown",
      "metadata": {
        "id": "95H7DlB_YARA"
      },
      "source": [
        "2. Quais os dois primeiros valores maiores que 2046 em `lista`?"
      ]
    },
    {
      "cell_type": "code",
      "metadata": {
        "colab": {
          "base_uri": "https://localhost:8080/"
        },
        "id": "BknXd3WYST7B",
        "outputId": "c8e401a5-3fd8-47bf-f606-062e9c5f1286"
      },
      "source": [
        "y = [x for x in lista if x >= 2046] \n",
        "y.sort() \n",
        "y[0:10]\n"
      ],
      "execution_count": null,
      "outputs": [
        {
          "output_type": "execute_result",
          "data": {
            "text/plain": [
              "[2055, 2064, 2081, 2082, 2113, 2118, 2125, 2146, 2154, 2161]"
            ]
          },
          "metadata": {
            "tags": []
          },
          "execution_count": 3
        }
      ]
    },
    {
      "cell_type": "markdown",
      "metadata": {
        "id": "_i-bSWW9YNa_"
      },
      "source": [
        "3. Quais os valores mínimo e máximo em `lista`? "
      ]
    },
    {
      "cell_type": "code",
      "metadata": {
        "colab": {
          "base_uri": "https://localhost:8080/"
        },
        "id": "wnhzxGXfQr6Q",
        "outputId": "a580394c-622f-4c8d-d521-acbe1ed5a90b"
      },
      "source": [
        "import numpy as np\n",
        "print( np.array(lista).min(), np.array(lista).max() )"
      ],
      "execution_count": null,
      "outputs": [
        {
          "output_type": "stream",
          "text": [
            "4 9998\n"
          ],
          "name": "stdout"
        }
      ]
    },
    {
      "cell_type": "markdown",
      "metadata": {
        "id": "Fs5Ys1kybzDz"
      },
      "source": [
        "4. Quais as 4 letras que mais aparecem em `letras`?\n",
        "\n",
        "<small> ( Existe várias formas de fazer isso, mas fica aqui a sugestão: se você implementar um dicionário *letra:quantidade* poderá empregar a mesma solução na tarefa de aprofundamento! ) </small> "
      ]
    },
    {
      "cell_type": "code",
      "metadata": {
        "colab": {
          "base_uri": "https://localhost:8080/"
        },
        "id": "dna43p-3TcPH",
        "outputId": "130fe645-f9c7-4fe3-f191-39a913f0a15b"
      },
      "source": [
        "mydic = {}\n",
        "for letra in letras:\n",
        "  if letra in mydic.keys():\n",
        "    mydic[letra] += 1\n",
        "  else:\n",
        "    mydic[letra] = 1   \n",
        "\n",
        "for e in sorted(mydic, key=mydic.get, reverse=True):\n",
        "  print(e, mydic[e])\n"
      ],
      "execution_count": null,
      "outputs": [
        {
          "output_type": "stream",
          "text": [
            "x 8\n",
            "h 7\n",
            "j 7\n",
            "m 7\n",
            "p 6\n",
            "n 5\n",
            "v 5\n",
            "r 5\n",
            "o 4\n",
            "a 4\n",
            "e 4\n",
            "q 3\n",
            "i 3\n",
            "t 3\n",
            "k 3\n",
            "g 3\n",
            "z 3\n",
            "u 3\n",
            "f 3\n",
            "w 3\n",
            "d 2\n",
            "s 2\n",
            "y 2\n",
            "b 2\n",
            "c 2\n",
            "l 1\n"
          ],
          "name": "stdout"
        }
      ]
    },
    {
      "cell_type": "markdown",
      "metadata": {
        "id": "cdADnpZFZKxg"
      },
      "source": [
        "5. Qual a soma dos valores pares de `lista`?"
      ]
    },
    {
      "cell_type": "code",
      "metadata": {
        "colab": {
          "base_uri": "https://localhost:8080/"
        },
        "id": "2MOHct7HZIWo",
        "outputId": "edb3959e-39a7-41b6-d436-8373327c71da"
      },
      "source": [
        "import numpy as np\n",
        "np.array([ x for x in lista if (x % 2 == 0) ]).sum()"
      ],
      "execution_count": null,
      "outputs": [
        {
          "output_type": "execute_result",
          "data": {
            "text/plain": [
              "2687196"
            ]
          },
          "metadata": {
            "tags": []
          },
          "execution_count": 17
        }
      ]
    }
  ]
}