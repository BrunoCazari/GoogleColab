{
  "nbformat": 4,
  "nbformat_minor": 0,
  "metadata": {
    "colab": {
      "name": "Calculo_Area_Imovel.ipynb",
      "provenance": [],
      "authorship_tag": "ABX9TyOs+ke/Ds7Mmm9tHMQIbTQn",
      "include_colab_link": true
    },
    "kernelspec": {
      "name": "python3",
      "display_name": "Python 3"
    },
    "language_info": {
      "name": "python"
    }
  },
  "cells": [
    {
      "cell_type": "markdown",
      "metadata": {
        "id": "view-in-github",
        "colab_type": "text"
      },
      "source": [
        "<a href=\"https://colab.research.google.com/github/diegonogare/GoogleColab/blob/main/Calculo_Area_Imovel.ipynb\" target=\"_parent\"><img src=\"https://colab.research.google.com/assets/colab-badge.svg\" alt=\"Open In Colab\"/></a>"
      ]
    },
    {
      "cell_type": "markdown",
      "metadata": {
        "id": "tttFOa8Lr1ac"
      },
      "source": [
        "# Cálculo da área de imóvel"
      ]
    },
    {
      "cell_type": "markdown",
      "metadata": {
        "id": "p7_-7aFRsZoK"
      },
      "source": [
        "Fonte da Imagem: [Casa Madepinus - Planta N.57](https://www.casamadepinus.com.br/planta.php?modelo=49&quartos=6)\n",
        "\n",
        "![Planta_Baixa_Imovel](https://www.casamadepinus.com.br/img/plantas/projetadas/planta-baixa-casa-madepinus-06760894239918968584.png)\n"
      ]
    },
    {
      "cell_type": "code",
      "metadata": {
        "colab": {
          "base_uri": "https://localhost:8080/"
        },
        "id": "JOlFGxNKrztb",
        "outputId": "15c71508-64db-483c-af5a-fda3cbaa3a1d"
      },
      "source": [
        "#Banheiro\n",
        "print(1.20 * 2.40)\n",
        "\n"
      ],
      "execution_count": 141,
      "outputs": [
        {
          "output_type": "stream",
          "text": [
            "2.88\n",
            "7.5\n",
            "7.5\n",
            "9.0\n",
            "12.0\n",
            "12.0\n",
            "50.879999999999995\n"
          ],
          "name": "stdout"
        }
      ]
    },
    {
      "cell_type": "code",
      "metadata": {
        "colab": {
          "base_uri": "https://localhost:8080/"
        },
        "id": "tMPBPsX04Akg",
        "outputId": "29edc8f5-6598-4fc8-a14c-b5d57aae4487"
      },
      "source": [
        "#Quarto 1\n",
        "print(3.0 * 2.5)\n",
        "\n",
        "#Quarto 2\n",
        "print(3.0 * 2.5)\n",
        "\n",
        "#Quarto 3\n",
        "print(3.0 * 3.0)\n",
        "\n",
        "#Sala \n",
        "print(4.0 * 3.0)\n",
        "\n",
        "#Cozinha\n",
        "print(4.0 * 3.0)\n",
        "\n",
        "#AreaInterna\n",
        "print( 2.88 + 7.5 + 7.5 + 9.0 + 12.0 + 12.0 )"
      ],
      "execution_count": 142,
      "outputs": [
        {
          "output_type": "stream",
          "text": [
            "7.5\n",
            "7.5\n",
            "9.0\n",
            "12.0\n",
            "12.0\n",
            "50.879999999999995\n"
          ],
          "name": "stdout"
        }
      ]
    },
    {
      "cell_type": "markdown",
      "metadata": {
        "id": "aUm7obiKvY21"
      },
      "source": [
        "Fonte da Imagem: [Casa Madepinus - Planta N.58](https://www.casamadepinus.com.br/planta.php?modelo=49&quartos=6)\n",
        "\n",
        "![Planta_Baixa_Imovel_58](https://www.casamadepinus.com.br/img/plantas/projetadas/planta-baixa-casa-madepinus-51865794678543077904.png)"
      ]
    },
    {
      "cell_type": "code",
      "metadata": {
        "colab": {
          "base_uri": "https://localhost:8080/"
        },
        "id": "-fqt3hbcvzoR",
        "outputId": "6dfd9fad-9a33-444c-cd88-1a0f2400a3b5"
      },
      "source": [
        "#Banheiro\n",
        "print(1.20 * 2.40)\n",
        "\n",
        "#Quarto 1\n",
        "print(3.0 * 2.75)\n",
        "\n",
        "#Quarto 2\n",
        "print(3.0 * 2.75)\n",
        "\n",
        "#Quarto 3\n",
        "print(3.0 * 3.5)\n",
        "\n",
        "#Sala \n",
        "print(4.5 * 3.0)\n",
        "\n",
        "#Cozinha\n",
        "print(4.5 * 3.0)\n",
        "\n",
        "#AreaInterna\n",
        "print( 2.88 + 8.25 + 8.25 + 10.5 + 13.5 + 13.0 )\n"
      ],
      "execution_count": 143,
      "outputs": [
        {
          "output_type": "stream",
          "text": [
            "2.88\n",
            "8.25\n",
            "8.25\n",
            "10.5\n",
            "13.5\n",
            "13.5\n",
            "56.379999999999995\n"
          ],
          "name": "stdout"
        }
      ]
    },
    {
      "cell_type": "code",
      "metadata": {
        "id": "Fac2WSaNwul3"
      },
      "source": [
        "Banheiro = 1.20 * 2.40\n",
        "Quarto_1 = 3.0 * 2.75\n",
        "Quarto_2 = 3.0 * 2.75\n",
        "Quarto_3 = 3.0 * 3.5\n",
        "Sala = 4.5 * 3.0\n",
        "Cozinha = 4.5 * 3.0\n",
        "\n",
        "Area_Total = Banheiro + Quarto_1 + Quarto_2 + Quarto_3 + Sala + Cozinha"
      ],
      "execution_count": 146,
      "outputs": []
    },
    {
      "cell_type": "code",
      "metadata": {
        "colab": {
          "base_uri": "https://localhost:8080/"
        },
        "id": "ILz2U_BKxDgS",
        "outputId": "817d0650-b647-4cce-8b8b-31cb79a397e1"
      },
      "source": [
        "print(Area_Total)"
      ],
      "execution_count": 147,
      "outputs": [
        {
          "output_type": "stream",
          "text": [
            "56.879999999999995\n"
          ],
          "name": "stdout"
        }
      ]
    },
    {
      "cell_type": "code",
      "metadata": {
        "colab": {
          "base_uri": "https://localhost:8080/"
        },
        "id": "nJeJR1kFxziF",
        "outputId": "442b3992-8555-4424-a49f-98e895e07d09"
      },
      "source": [
        "print(\"Área Total:\", Area_Total)\n",
        "\n",
        "print(\"Área Total:\", '%0.2f'%Area_Total)"
      ],
      "execution_count": 148,
      "outputs": [
        {
          "output_type": "stream",
          "text": [
            "Área Total: 56.879999999999995\n",
            "Área Total: 56.88\n"
          ],
          "name": "stdout"
        }
      ]
    },
    {
      "cell_type": "code",
      "metadata": {
        "colab": {
          "base_uri": "https://localhost:8080/"
        },
        "id": "a5ZbesYVy6YI",
        "outputId": "aa0a40ba-3a4f-4813-b0c9-55c1483ed915"
      },
      "source": [
        "Casa57 = {'Banheiro':Banheiro, 'Quarto 1':Quarto_1, 'Quarto 2':Quarto_2, 'Quarto 3':Quarto_3, 'Sala':Sala, 'Cozinha':Cozinha}\n",
        "print(Casa57.keys())\n",
        "print(\"Quarto 2 =\", '%0.2f'%Casa57['Quarto 2'])"
      ],
      "execution_count": 149,
      "outputs": [
        {
          "output_type": "stream",
          "text": [
            "dict_keys(['Banheiro', 'Quarto 1', 'Quarto 2', 'Quarto 3', 'Sala', 'Cozinha'])\n",
            "Quarto 2 = 8.25\n"
          ],
          "name": "stdout"
        }
      ]
    },
    {
      "cell_type": "code",
      "metadata": {
        "id": "voEiLrg2z4n3"
      },
      "source": [
        "MinhasCasas = { 'Casa 57': { 'Endereço':'Av Faria Lima', 'Comodos': { 'Banheiro': 2.88, 'Quarto 1': 7.5, 'Quarto 2':7.5, 'Quarto 3':9.0, 'Sala':12.0, 'Cozinha':12.0 } },\n",
        "                'Casa 58': { 'Endereço':'Av Paulista', 'Comodos': { 'Banheiro':Banheiro, 'Quarto 1':Quarto_1, 'Quarto 2':Quarto_2, 'Quarto 3':Quarto_3, 'Sala':Sala, 'Cozinha':Cozinha } } }\n",
        "\n"
      ],
      "execution_count": 150,
      "outputs": []
    },
    {
      "cell_type": "code",
      "metadata": {
        "colab": {
          "base_uri": "https://localhost:8080/"
        },
        "id": "rYUjvFiY4gdv",
        "outputId": "dc8da0b0-0818-4899-fbab-0dd3b3d5dcb0"
      },
      "source": [
        "#MinhasCasas.keys()\n",
        "#MinhasCasas.items()\n",
        "#MinhasCasas['Casa 57']\n",
        "#MinhasCasas['Casa 57']['Comodos']"
      ],
      "execution_count": 154,
      "outputs": [
        {
          "output_type": "execute_result",
          "data": {
            "text/plain": [
              "{'Banheiro': 2.88,\n",
              " 'Cozinha': 12.0,\n",
              " 'Quarto 1': 7.5,\n",
              " 'Quarto 2': 7.5,\n",
              " 'Quarto 3': 9.0,\n",
              " 'Sala': 12.0}"
            ]
          },
          "metadata": {},
          "execution_count": 154
        }
      ]
    },
    {
      "cell_type": "code",
      "metadata": {
        "colab": {
          "base_uri": "https://localhost:8080/"
        },
        "id": "YFJzDrehRG-b",
        "outputId": "80746297-85e4-472c-8c47-95f8c798d3a1"
      },
      "source": [
        "for key, item in MinhasCasas.items():\n",
        "  print(key, item)"
      ],
      "execution_count": 211,
      "outputs": [
        {
          "output_type": "stream",
          "text": [
            "Casa 57 {'Endereço': 'Av Faria Lima', 'Comodos': {'Banheiro': 2.88, 'Quarto 1': 7.5, 'Quarto 2': 7.5, 'Quarto 3': 9.0, 'Sala': 12.0, 'Cozinha': 12.0}}\n",
            "Casa 58 {'Endereço': 'Av Paulista', 'Comodos': {'Banheiro': 2.88, 'Quarto 1': 8.25, 'Quarto 2': 8.25, 'Quarto 3': 10.5, 'Sala': 13.5, 'Cozinha': 13.5}}\n",
            "Casa 59 {'Endereço': 'Av Brasil', 'Comodos': {'Banheiro': 2.88, 'Quarto 1': 10.5, 'Quarto 2': 10.5, 'Quarto 3': 14.0, 'Sala': 17.5, 'Cozinha': 17.5}}\n",
            "Casa 60 {'Endereço': 'Av Ibirapuera', 'Comodos': {'Banheiro': 2.88, 'Quarto 1': 10.5, 'Quarto 2': 10.5, 'Quarto 3': 14.0, 'Sala': 17.5, 'Cozinha': 17.5}}\n"
          ],
          "name": "stdout"
        }
      ]
    },
    {
      "cell_type": "code",
      "metadata": {
        "colab": {
          "base_uri": "https://localhost:8080/"
        },
        "id": "iX_kGGm3TOz_",
        "outputId": "0d364f3a-4640-415d-e4b2-ff5f0114fa4c"
      },
      "source": [
        "for valores in MinhasCasas.values():\n",
        "  print(valores)"
      ],
      "execution_count": 156,
      "outputs": [
        {
          "output_type": "stream",
          "text": [
            "{'Endereço': 'Av Faria Lima', 'Comodos': {'Banheiro': 2.88, 'Quarto 1': 7.5, 'Quarto 2': 7.5, 'Quarto 3': 9.0, 'Sala': 12.0, 'Cozinha': 12.0}}\n",
            "{'Endereço': 'Av Paulista', 'Comodos': {'Banheiro': 2.88, 'Quarto 1': 8.25, 'Quarto 2': 8.25, 'Quarto 3': 10.5, 'Sala': 13.5, 'Cozinha': 13.5}}\n"
          ],
          "name": "stdout"
        }
      ]
    },
    {
      "cell_type": "code",
      "metadata": {
        "colab": {
          "base_uri": "https://localhost:8080/"
        },
        "id": "XwwSm1S5Rylt",
        "outputId": "0b286cc2-dfbb-4593-accb-e878ddc3297f"
      },
      "source": [
        "for chave in MinhasCasas.keys():\n",
        "  print(chave)\n",
        "  for item in MinhasCasas[chave].items():\n",
        "    print(item)"
      ],
      "execution_count": 157,
      "outputs": [
        {
          "output_type": "stream",
          "text": [
            "Casa 57\n",
            "('Endereço', 'Av Faria Lima')\n",
            "('Comodos', {'Banheiro': 2.88, 'Quarto 1': 7.5, 'Quarto 2': 7.5, 'Quarto 3': 9.0, 'Sala': 12.0, 'Cozinha': 12.0})\n",
            "Casa 58\n",
            "('Endereço', 'Av Paulista')\n",
            "('Comodos', {'Banheiro': 2.88, 'Quarto 1': 8.25, 'Quarto 2': 8.25, 'Quarto 3': 10.5, 'Sala': 13.5, 'Cozinha': 13.5})\n"
          ],
          "name": "stdout"
        }
      ]
    },
    {
      "cell_type": "code",
      "metadata": {
        "colab": {
          "base_uri": "https://localhost:8080/"
        },
        "id": "HwOpLodpTby5",
        "outputId": "0cb4c850-ef68-438e-f477-837d79e25375"
      },
      "source": [
        "areaComodo = 0\n",
        "\n",
        "for chave in MinhasCasas.keys():\n",
        "  print(chave)\n",
        "  for elemento in MinhasCasas[chave]['Comodos'].items():\n",
        "    if elemento[0] == 'Quarto 1':\n",
        "      areaComodo += elemento[1]\n",
        "      print(elemento)\n",
        "\n",
        "print(\"Total do comodo:\", '%0.2f'%areaComodo)"
      ],
      "execution_count": 159,
      "outputs": [
        {
          "output_type": "stream",
          "text": [
            "Casa 57\n",
            "('Quarto 1', 7.5)\n",
            "Casa 58\n",
            "('Quarto 1', 8.25)\n",
            "Total do comodo: 15.75\n"
          ],
          "name": "stdout"
        }
      ]
    },
    {
      "cell_type": "code",
      "metadata": {
        "colab": {
          "base_uri": "https://localhost:8080/"
        },
        "id": "Zx9w8sPxZ7QN",
        "outputId": "85ce3ab3-1b25-4a4c-962c-7435b5b8ed72"
      },
      "source": [
        "def calcular_area(base, altura):\n",
        "  area = base * altura\n",
        "  return area\n",
        "\n",
        "calcular_area(2.5,3)"
      ],
      "execution_count": 160,
      "outputs": [
        {
          "output_type": "execute_result",
          "data": {
            "text/plain": [
              "7.5"
            ]
          },
          "metadata": {},
          "execution_count": 160
        }
      ]
    },
    {
      "cell_type": "code",
      "metadata": {
        "colab": {
          "base_uri": "https://localhost:8080/"
        },
        "id": "W3_po4x4bWCQ",
        "outputId": "6f5b042a-8d7a-439e-d87b-858816687db2"
      },
      "source": [
        "def calcular_area_imovel(nome_imovel):\n",
        "  area_imovel = 0\n",
        "  \n",
        "  for elemento in MinhasCasas[nome_imovel]['Comodos'].items():\n",
        "      area_imovel += elemento[1]\n",
        "\n",
        "  return area_imovel\n",
        "\n",
        "calcular_area_imovel('Casa 57')\n"
      ],
      "execution_count": 163,
      "outputs": [
        {
          "output_type": "execute_result",
          "data": {
            "text/plain": [
              "50.879999999999995"
            ]
          },
          "metadata": {},
          "execution_count": 163
        }
      ]
    },
    {
      "cell_type": "code",
      "metadata": {
        "colab": {
          "base_uri": "https://localhost:8080/"
        },
        "id": "kUmS0uPkaMHO",
        "outputId": "0ba31e00-14ed-46c2-b466-a40f70c75a09"
      },
      "source": [
        "#Casa da Planta N. 59\n",
        "\n",
        "lista_comodos = ['Banheiro', 'Quarto 1', 'Quarto 2', 'Quarto 3', 'Sala', 'Cozinha']\n",
        "lista_base = [2.4, 3, 3, 3, 3, 3]\n",
        "lista_altura = [1.2, 3, 3, 4, 5, 5]\n",
        "\n",
        "lista_area = []\n",
        "\n",
        "for i in range(len(lista_base)):\n",
        "  lista_area.append(lista_base[i] * lista_altura[i])\n",
        "\n",
        "print(lista_area)\n"
      ],
      "execution_count": 205,
      "outputs": [
        {
          "output_type": "stream",
          "text": [
            "[2.88, 9, 9, 12, 15, 15]\n"
          ],
          "name": "stdout"
        }
      ]
    },
    {
      "cell_type": "code",
      "metadata": {
        "colab": {
          "base_uri": "https://localhost:8080/"
        },
        "id": "bjXCphGxbv5M",
        "outputId": "bc1e3b35-eaa3-4052-d4d3-0047968fa626"
      },
      "source": [
        "for i in range(len(lista_comodos)):\n",
        "  novaCasa[lista_comodos[i]] = lista_base[i] * lista_altura[i]\n",
        "\n",
        "novaCasa"
      ],
      "execution_count": 206,
      "outputs": [
        {
          "output_type": "execute_result",
          "data": {
            "text/plain": [
              "{'Banheiro': 2.88,\n",
              " 'Cozinha': 15,\n",
              " 'Quarto 1': 9,\n",
              " 'Quarto 2': 9,\n",
              " 'Quarto 3': 12,\n",
              " 'Sala': 15}"
            ]
          },
          "metadata": {},
          "execution_count": 206
        }
      ]
    },
    {
      "cell_type": "code",
      "metadata": {
        "colab": {
          "base_uri": "https://localhost:8080/"
        },
        "id": "pwfDJpsN9mUx",
        "outputId": "4832895d-84fc-4076-d5a4-291fd0a50ef4"
      },
      "source": [
        "nome_casa = 'Casa 59'\n",
        "endereco_casa = 'Av Brasil'\n",
        "\n",
        "caracteristica = { nome_casa: {'Endereço':endereco_casa, 'Comodos': novaCasa }}\n",
        "\n",
        "MinhasCasas.update(caracteristica)"
      ],
      "execution_count": 201,
      "outputs": [
        {
          "output_type": "stream",
          "text": [
            "{'Casa 57': {'Endereço': 'Av Faria Lima', 'Comodos': {'Banheiro': 2.88, 'Quarto 1': 7.5, 'Quarto 2': 7.5, 'Quarto 3': 9.0, 'Sala': 12.0, 'Cozinha': 12.0}}, 'Casa 58': {'Endereço': 'Av Paulista', 'Comodos': {'Banheiro': 2.88, 'Quarto 1': 8.25, 'Quarto 2': 8.25, 'Quarto 3': 10.5, 'Sala': 13.5, 'Cozinha': 13.5}}, 'Casa 59': {'Endereço': 'Av Brasil', 'Comodos': {'Banheiro': 2.88, 'Quarto 1': 9, 'Quarto 2': 9, 'Quarto 3': 12, 'Sala': 15, 'Cozinha': 15}}}\n"
          ],
          "name": "stdout"
        }
      ]
    },
    {
      "cell_type": "code",
      "metadata": {
        "id": "496XP7cdAX7s"
      },
      "source": [
        "def adicionar_casa(nome_casa, endereco_casa, comodos_casa):\n",
        "  caracteristica = { nome_casa: {'Endereço':endereco_casa, 'Comodos': novaCasa }}\n",
        "  MinhasCasas.update(caracteristica)\n",
        "\n",
        "  return (\"Casa incluída com sucesso!\")"
      ],
      "execution_count": 204,
      "outputs": []
    },
    {
      "cell_type": "code",
      "metadata": {
        "colab": {
          "base_uri": "https://localhost:8080/",
          "height": 35
        },
        "id": "eGsxlt1iB8am",
        "outputId": "83ffdad8-87f3-4e35-a963-cbe479e9888a"
      },
      "source": [
        "#Casa da Planta N. 60\n",
        "\n",
        "lista_comodos = ['Banheiro', 'Quarto 1', 'Quarto 2', 'Quarto 3', 'Sala', 'Cozinha']\n",
        "lista_base = [2.4, 3.5, 3.5, 3.5, 3.5, 3.5]\n",
        "lista_altura = [1.2, 3, 3, 4, 5, 5]\n",
        "\n",
        "for i in range(len(lista_comodos)):\n",
        "  novaCasa[lista_comodos[i]] = lista_base[i] * lista_altura[i]\n",
        "\n",
        "novaCasa\n",
        "\n",
        "adicionar_casa('Casa 60', 'Av Ibirapuera', novaCasa)"
      ],
      "execution_count": 210,
      "outputs": [
        {
          "output_type": "execute_result",
          "data": {
            "application/vnd.google.colaboratory.intrinsic+json": {
              "type": "string"
            },
            "text/plain": [
              "'Casa incluída com sucesso!'"
            ]
          },
          "metadata": {},
          "execution_count": 210
        }
      ]
    },
    {
      "cell_type": "code",
      "metadata": {
        "colab": {
          "base_uri": "https://localhost:8080/"
        },
        "id": "AT8CfgmUCe69",
        "outputId": "0358ac36-dfbe-42b2-e65a-50e09202b36e"
      },
      "source": [
        "calcular_area_imovel('Casa 60')\n"
      ],
      "execution_count": 213,
      "outputs": [
        {
          "output_type": "execute_result",
          "data": {
            "text/plain": [
              "72.88"
            ]
          },
          "metadata": {},
          "execution_count": 213
        }
      ]
    }
  ]
}