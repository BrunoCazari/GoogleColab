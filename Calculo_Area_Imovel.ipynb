{
  "nbformat": 4,
  "nbformat_minor": 0,
  "metadata": {
    "colab": {
      "name": "Calculo_Area_Imovel.ipynb",
      "provenance": [],
      "authorship_tag": "ABX9TyN7rsnwHcrhkeQpsiIK9bJJ"
    },
    "kernelspec": {
      "name": "python3",
      "display_name": "Python 3"
    },
    "language_info": {
      "name": "python"
    }
  },
  "cells": [
    {
      "cell_type": "markdown",
      "metadata": {
        "id": "tttFOa8Lr1ac"
      },
      "source": [
        "# Cálculo da área de imóvel"
      ]
    },
    {
      "cell_type": "markdown",
      "metadata": {
        "id": "p7_-7aFRsZoK"
      },
      "source": [
        "Fonte da Imagem: [Casa Madepinus - Planta N.57](https://www.casamadepinus.com.br/planta.php?modelo=49&quartos=6)\n",
        "\n",
        "![Planta_Baixa_Imovel](https://www.casamadepinus.com.br/img/plantas/projetadas/planta-baixa-casa-madepinus-06760894239918968584.png)\n"
      ]
    },
    {
      "cell_type": "code",
      "metadata": {
        "colab": {
          "base_uri": "https://localhost:8080/"
        },
        "id": "JOlFGxNKrztb",
        "outputId": "d9fee2f0-5d45-40aa-a545-5b1ed039c9c2"
      },
      "source": [
        "#Banheiro\n",
        "print(1.20 * 2.40)\n",
        "\n",
        "#Quarto 1\n",
        "print(3.0 * 2.5)\n",
        "\n",
        "#Quarto 2\n",
        "print(3.0 * 2.5)\n",
        "\n",
        "#Quarto 3\n",
        "print(3.0 * 3.0)\n",
        "\n",
        "#Sala \n",
        "print(4.0 * 3.0)\n",
        "\n",
        "#Cozinha\n",
        "print(4.0 * 3.0)\n",
        "\n",
        "#AreaInterna\n",
        "print( 2.88 + 7.5 + 7.5 + 9.0 + 12.0 + 12.0 )\n"
      ],
      "execution_count": 17,
      "outputs": [
        {
          "output_type": "stream",
          "text": [
            "2.88\n",
            "7.5\n",
            "7.5\n",
            "9.0\n",
            "12.0\n",
            "12.0\n",
            "50.879999999999995\n"
          ],
          "name": "stdout"
        }
      ]
    },
    {
      "cell_type": "markdown",
      "metadata": {
        "id": "aUm7obiKvY21"
      },
      "source": [
        "Fonte da Imagem: [Casa Madepinus - Planta N.58](https://www.casamadepinus.com.br/planta.php?modelo=49&quartos=6)\n",
        "\n",
        "![Planta_Baixa_Imovel_58](https://www.casamadepinus.com.br/img/plantas/projetadas/planta-baixa-casa-madepinus-51865794678543077904.png)"
      ]
    },
    {
      "cell_type": "code",
      "metadata": {
        "colab": {
          "base_uri": "https://localhost:8080/"
        },
        "id": "-fqt3hbcvzoR",
        "outputId": "0904a0ec-4df9-442c-d0dc-d410778d0790"
      },
      "source": [
        "#Banheiro\n",
        "print(1.20 * 2.40)\n",
        "\n",
        "#Quarto 1\n",
        "print(3.0 * 2.75)\n",
        "\n",
        "#Quarto 2\n",
        "print(3.0 * 2.75)\n",
        "\n",
        "#Quarto 3\n",
        "print(3.0 * 3.5)\n",
        "\n",
        "#Sala \n",
        "print(4.5 * 3.0)\n",
        "\n",
        "#Cozinha\n",
        "print(4.5 * 3.0)\n",
        "\n",
        "#AreaInterna\n",
        "print( 2.88 + 8.25 + 8.25 + 10.5 + 13.5 + 13.0 )\n"
      ],
      "execution_count": 15,
      "outputs": [
        {
          "output_type": "stream",
          "text": [
            "2.88\n",
            "8.25\n",
            "8.25\n",
            "10.5\n",
            "13.5\n",
            "13.5\n",
            "56.379999999999995\n"
          ],
          "name": "stdout"
        }
      ]
    },
    {
      "cell_type": "code",
      "metadata": {
        "id": "Fac2WSaNwul3"
      },
      "source": [
        "Banheiro = 1.20 * 2.40\n",
        "Quarto_1 = 3.0 * 2.75\n",
        "Quarto_2 = 3.0 * 2.75\n",
        "Quarto_3 = 3.0 * 3.5\n",
        "Sala = 4.5 * 3.0\n",
        "Cozinha = 4.5 * 4.0\n",
        "\n",
        "Area_Total = Banheiro + Quarto_1 + Quarto_2 + Quarto_3 + Sala + Cozinha"
      ],
      "execution_count": 21,
      "outputs": []
    },
    {
      "cell_type": "code",
      "metadata": {
        "colab": {
          "base_uri": "https://localhost:8080/"
        },
        "id": "ILz2U_BKxDgS",
        "outputId": "8f6062b4-e45f-4c16-cc4a-fde7c53a40de"
      },
      "source": [
        "print(Area_Total)"
      ],
      "execution_count": 22,
      "outputs": [
        {
          "output_type": "stream",
          "text": [
            "61.379999999999995\n"
          ],
          "name": "stdout"
        }
      ]
    },
    {
      "cell_type": "code",
      "metadata": {
        "colab": {
          "base_uri": "https://localhost:8080/"
        },
        "id": "nJeJR1kFxziF",
        "outputId": "f882584f-60be-468e-f7bd-53dc836d9f56"
      },
      "source": [
        "print(\"Área Total:\", Area_Total)\n",
        "\n",
        "print(\"Área Total:\", '%0.2f'%Area_Total)"
      ],
      "execution_count": 25,
      "outputs": [
        {
          "output_type": "stream",
          "text": [
            "Área Total: 61.379999999999995\n",
            "Área Total: 61.38\n"
          ],
          "name": "stdout"
        }
      ]
    },
    {
      "cell_type": "code",
      "metadata": {
        "colab": {
          "base_uri": "https://localhost:8080/"
        },
        "id": "a5ZbesYVy6YI",
        "outputId": "f3112aff-8f16-4b80-99d1-15b4cea4ca2c"
      },
      "source": [
        "Casa57 = {'Banheiro':Banheiro, 'Quarto 1':Quarto_1, 'Quarto 2':Quarto_2, 'Quarto 3':Quarto_3, 'Sala':Sala, 'Cozinha':Cozinha}\n",
        "print(Casa57.keys())\n",
        "print(\"Quarto 2 =\", '%0.2f'%Casa57['Quarto 2'])"
      ],
      "execution_count": 35,
      "outputs": [
        {
          "output_type": "stream",
          "text": [
            "dict_keys(['Banheiro', 'Quarto 1', 'Quarto 2', 'Quarto 3', 'Sala', 'Cozinha'])\n",
            "Quarto 2 = 8.25\n"
          ],
          "name": "stdout"
        }
      ]
    }
  ]
}