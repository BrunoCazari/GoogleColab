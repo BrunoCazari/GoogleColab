{
  "nbformat": 4,
  "nbformat_minor": 0,
  "metadata": {
    "colab": {
      "name": "Calculo_Area_Imovel.ipynb",
      "provenance": [],
      "authorship_tag": "ABX9TyM7nB8poebPHocGYXnyNlJz"
    },
    "kernelspec": {
      "name": "python3",
      "display_name": "Python 3"
    },
    "language_info": {
      "name": "python"
    }
  },
  "cells": [
    {
      "cell_type": "markdown",
      "metadata": {
        "id": "tttFOa8Lr1ac"
      },
      "source": [
        "# Cálculo da área de imóvel"
      ]
    },
    {
      "cell_type": "markdown",
      "metadata": {
        "id": "p7_-7aFRsZoK"
      },
      "source": [
        "Fonte da Imagem: [Casa Madepinus - Planta N.57](https://www.casamadepinus.com.br/planta.php?modelo=49&quartos=6)\n",
        "\n",
        "![Planta_Baixa_Imovel](https://www.casamadepinus.com.br/img/plantas/projetadas/planta-baixa-casa-madepinus-06760894239918968584.png)\n"
      ]
    },
    {
      "cell_type": "code",
      "metadata": {
        "colab": {
          "base_uri": "https://localhost:8080/"
        },
        "id": "JOlFGxNKrztb",
        "outputId": "3f253111-3eeb-4cb7-d0c8-1dae254003ba"
      },
      "source": [
        "#Banheiro\n",
        "print(1.20 * 2.40)\n",
        "\n",
        "#Quarto 1\n",
        "print(3.0 * 2.5)\n",
        "\n",
        "#Quarto 2\n",
        "print(3.0 * 2.5)\n",
        "\n",
        "#Quarto 3\n",
        "print(3.0 * 3.0)\n",
        "\n",
        "#Sala \n",
        "print(4.0 * 3.0)\n",
        "\n",
        "#Cozinha\n",
        "print(4.0 * 4.0)\n",
        "\n",
        "#AreaInterna\n",
        "print( 2.88 + 7.5 + 7.5 + 9.0 + 12.0 + 16.0 )\n"
      ],
      "execution_count": 7,
      "outputs": [
        {
          "output_type": "stream",
          "text": [
            "2.88\n",
            "7.5\n",
            "7.5\n",
            "9.0\n",
            "12.0\n",
            "16.0\n",
            "54.879999999999995\n"
          ],
          "name": "stdout"
        }
      ]
    },
    {
      "cell_type": "markdown",
      "metadata": {
        "id": "aUm7obiKvY21"
      },
      "source": [
        "Fonte da Imagem: [Casa Madepinus - Planta N.58](https://www.casamadepinus.com.br/planta.php?modelo=49&quartos=6)\n",
        "\n",
        "![Planta_Baixa_Imovel_58](https://www.casamadepinus.com.br/img/plantas/projetadas/planta-baixa-casa-madepinus-51865794678543077904.png)"
      ]
    },
    {
      "cell_type": "code",
      "metadata": {
        "colab": {
          "base_uri": "https://localhost:8080/"
        },
        "id": "-fqt3hbcvzoR",
        "outputId": "3430d2f3-ac79-48a7-d1df-ddf9c310214d"
      },
      "source": [
        "#Banheiro\n",
        "print(1.20 * 2.40)\n",
        "\n",
        "#Quarto 1\n",
        "print(3.0 * 2.75)\n",
        "\n",
        "#Quarto 2\n",
        "print(3.0 * 2.75)\n",
        "\n",
        "#Quarto 3\n",
        "print(3.0 * 3.5)\n",
        "\n",
        "#Sala \n",
        "print(4.5 * 3.0)\n",
        "\n",
        "#Cozinha\n",
        "print(4.5 * 4.0)\n",
        "\n",
        "#AreaInterna\n",
        "print( 2.88 + 8.25 + 8.25 + 10.5 + 13.5 + 18.0 )\n"
      ],
      "execution_count": 9,
      "outputs": [
        {
          "output_type": "stream",
          "text": [
            "2.88\n",
            "8.25\n",
            "8.25\n",
            "10.5\n",
            "13.5\n",
            "18.0\n",
            "61.379999999999995\n"
          ],
          "name": "stdout"
        }
      ]
    }
  ]
}