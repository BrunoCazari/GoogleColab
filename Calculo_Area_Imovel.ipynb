{
  "nbformat": 4,
  "nbformat_minor": 0,
  "metadata": {
    "colab": {
      "name": "Calculo_Area_Imovel.ipynb",
      "provenance": [],
      "authorship_tag": "ABX9TyM6T2Utcq/biA+KohdsZnU/"
    },
    "kernelspec": {
      "name": "python3",
      "display_name": "Python 3"
    },
    "language_info": {
      "name": "python"
    }
  },
  "cells": [
    {
      "cell_type": "markdown",
      "metadata": {
        "id": "tttFOa8Lr1ac"
      },
      "source": [
        "# Cálculo da área de imóvel"
      ]
    },
    {
      "cell_type": "markdown",
      "metadata": {
        "id": "p7_-7aFRsZoK"
      },
      "source": [
        "Fonte da Imagem: [Casa Madepinus - Planta N.57](https://www.casamadepinus.com.br/planta.php?modelo=49&quartos=6)\n",
        "\n",
        "![Planta_Baixa_Imovel](https://www.casamadepinus.com.br/img/plantas/projetadas/planta-baixa-casa-madepinus-06760894239918968584.png)\n"
      ]
    },
    {
      "cell_type": "code",
      "metadata": {
        "colab": {
          "base_uri": "https://localhost:8080/"
        },
        "id": "JOlFGxNKrztb",
        "outputId": "9c857cbf-6c44-43a7-d8b0-beec516fe047"
      },
      "source": [
        "#Banheiro\n",
        "print(1.20 * 2.40)\n",
        "\n",
        "#Quarto 1\n",
        "print(3.0 * 2.5)\n",
        "\n",
        "#Quarto 2\n",
        "print(3.0 * 2.5)\n",
        "\n",
        "#Quarto 3\n",
        "print(3.0 * 3.0)\n",
        "\n",
        "#Sala \n",
        "print(4.0 * 3.0)\n",
        "\n",
        "#Cozinha\n",
        "print(4.0 * 3.0)\n",
        "\n",
        "#AreaInterna\n",
        "print( 2.88 + 7.5 + 7.5 + 9.0 + 12.0 + 12.0 )\n"
      ],
      "execution_count": 56,
      "outputs": [
        {
          "output_type": "stream",
          "text": [
            "2.88\n",
            "7.5\n",
            "7.5\n",
            "9.0\n",
            "12.0\n",
            "12.0\n",
            "50.879999999999995\n"
          ],
          "name": "stdout"
        }
      ]
    },
    {
      "cell_type": "markdown",
      "metadata": {
        "id": "aUm7obiKvY21"
      },
      "source": [
        "Fonte da Imagem: [Casa Madepinus - Planta N.58](https://www.casamadepinus.com.br/planta.php?modelo=49&quartos=6)\n",
        "\n",
        "![Planta_Baixa_Imovel_58](https://www.casamadepinus.com.br/img/plantas/projetadas/planta-baixa-casa-madepinus-51865794678543077904.png)"
      ]
    },
    {
      "cell_type": "code",
      "metadata": {
        "colab": {
          "base_uri": "https://localhost:8080/"
        },
        "id": "-fqt3hbcvzoR",
        "outputId": "20799886-45bf-42b4-aa0f-22c97c34cb2f"
      },
      "source": [
        "#Banheiro\n",
        "print(1.20 * 2.40)\n",
        "\n",
        "#Quarto 1\n",
        "print(3.0 * 2.75)\n",
        "\n",
        "#Quarto 2\n",
        "print(3.0 * 2.75)\n",
        "\n",
        "#Quarto 3\n",
        "print(3.0 * 3.5)\n",
        "\n",
        "#Sala \n",
        "print(4.5 * 3.0)\n",
        "\n",
        "#Cozinha\n",
        "print(4.5 * 3.0)\n",
        "\n",
        "#AreaInterna\n",
        "print( 2.88 + 8.25 + 8.25 + 10.5 + 13.5 + 13.0 )\n"
      ],
      "execution_count": 57,
      "outputs": [
        {
          "output_type": "stream",
          "text": [
            "2.88\n",
            "8.25\n",
            "8.25\n",
            "10.5\n",
            "13.5\n",
            "13.5\n",
            "56.379999999999995\n"
          ],
          "name": "stdout"
        }
      ]
    },
    {
      "cell_type": "code",
      "metadata": {
        "id": "Fac2WSaNwul3"
      },
      "source": [
        "#Metragem da casa 58\n",
        "Banheiro = 1.20 * 2.40\n",
        "Quarto_1 = 3.0 * 2.75\n",
        "Quarto_2 = 3.0 * 2.75\n",
        "Quarto_3 = 3.0 * 3.5\n",
        "Sala = 4.5 * 3.0\n",
        "Cozinha = 4.5 * 4.0\n",
        "\n",
        "Area_Total = Banheiro + Quarto_1 + Quarto_2 + Quarto_3 + Sala + Cozinha"
      ],
      "execution_count": 58,
      "outputs": []
    },
    {
      "cell_type": "code",
      "metadata": {
        "colab": {
          "base_uri": "https://localhost:8080/"
        },
        "id": "ILz2U_BKxDgS",
        "outputId": "8f6062b4-e45f-4c16-cc4a-fde7c53a40de"
      },
      "source": [
        "print(Area_Total)"
      ],
      "execution_count": 22,
      "outputs": [
        {
          "output_type": "stream",
          "text": [
            "61.379999999999995\n"
          ],
          "name": "stdout"
        }
      ]
    },
    {
      "cell_type": "code",
      "metadata": {
        "colab": {
          "base_uri": "https://localhost:8080/"
        },
        "id": "nJeJR1kFxziF",
        "outputId": "f882584f-60be-468e-f7bd-53dc836d9f56"
      },
      "source": [
        "print(\"Área Total:\", Area_Total)\n",
        "\n",
        "print(\"Área Total:\", '%0.2f'%Area_Total)"
      ],
      "execution_count": 25,
      "outputs": [
        {
          "output_type": "stream",
          "text": [
            "Área Total: 61.379999999999995\n",
            "Área Total: 61.38\n"
          ],
          "name": "stdout"
        }
      ]
    },
    {
      "cell_type": "code",
      "metadata": {
        "colab": {
          "base_uri": "https://localhost:8080/"
        },
        "id": "a5ZbesYVy6YI",
        "outputId": "f3112aff-8f16-4b80-99d1-15b4cea4ca2c"
      },
      "source": [
        "Casa57 = {'Banheiro':Banheiro, 'Quarto 1':Quarto_1, 'Quarto 2':Quarto_2, 'Quarto 3':Quarto_3, 'Sala':Sala, 'Cozinha':Cozinha}\n",
        "print(Casa57.keys())\n",
        "print(\"Quarto 2 =\", '%0.2f'%Casa57['Quarto 2'])"
      ],
      "execution_count": 35,
      "outputs": [
        {
          "output_type": "stream",
          "text": [
            "dict_keys(['Banheiro', 'Quarto 1', 'Quarto 2', 'Quarto 3', 'Sala', 'Cozinha'])\n",
            "Quarto 2 = 8.25\n"
          ],
          "name": "stdout"
        }
      ]
    },
    {
      "cell_type": "code",
      "metadata": {
        "colab": {
          "base_uri": "https://localhost:8080/"
        },
        "id": "voEiLrg2z4n3",
        "outputId": "481b7fb1-d204-49c9-83c5-4702730d42d2"
      },
      "source": [
        "MinhasCasas = { 'Casa 57': { 'Endereço':'Av Paulista', 'Comodos': { 'Banheiro':Banheiro, 'Quarto 1':Quarto_1, 'Quarto 2':Quarto_2, 'Quarto 3':Quarto_3, 'Sala':Sala, 'Cozinha':Cozinha } },\n",
        "                'Casa 58': { 'Endereço':'Av Faria Lima', 'Comodos': { 'Banheiro': 2.88, 'Quarto 1': 7.5, 'Quarto 2':7.5, 'Quarto 3':9.0, 'Sala':12.0, 'Cozinha':12.0 } } }\n",
        "\n",
        "#MinhasCasas.keys()\n",
        "#MinhasCasas.items()\n",
        "#MinhasCasas['Casa 57']\n",
        "#MinhasCasas['Casa 57']['Comodos']"
      ],
      "execution_count": 105,
      "outputs": [
        {
          "output_type": "execute_result",
          "data": {
            "text/plain": [
              "{'Banheiro': 2.88,\n",
              " 'Cozinha': 18.0,\n",
              " 'Quarto 1': 8.25,\n",
              " 'Quarto 2': 8.25,\n",
              " 'Quarto 3': 10.5,\n",
              " 'Sala': 13.5}"
            ]
          },
          "metadata": {},
          "execution_count": 105
        }
      ]
    },
    {
      "cell_type": "code",
      "metadata": {
        "colab": {
          "base_uri": "https://localhost:8080/"
        },
        "id": "YFJzDrehRG-b",
        "outputId": "37cc4b40-1a65-417e-c166-a346bfe9aab8"
      },
      "source": [
        "for key, item in MinhasCasas.items():\n",
        "  print(key, item)"
      ],
      "execution_count": 81,
      "outputs": [
        {
          "output_type": "stream",
          "text": [
            "Casa 57 {'Endereço': 'Av Paulista', 'Comodos': {'Banheiro': 2.88, 'Quarto 1': 8.25, 'Quarto 2': 8.25, 'Quarto 3': 10.5, 'Sala': 13.5, 'Cozinha': 18.0}}\n",
            "Casa 58 {'Endereço': 'Av Faria Lima', 'Comodos': {'Banheiro': 2.88, 'Quarto 1': 7.5, 'Quarto 2': 7.5, 'Quarto 3': 9.0, 'Sala': 12.0, 'Cozinha': 12.0}}\n"
          ],
          "name": "stdout"
        }
      ]
    },
    {
      "cell_type": "code",
      "metadata": {
        "colab": {
          "base_uri": "https://localhost:8080/"
        },
        "id": "iX_kGGm3TOz_",
        "outputId": "a19813bd-0080-49af-8ac6-583fbafe6e25"
      },
      "source": [
        "for valores in MinhasCasas.values():\n",
        "  print(valores)"
      ],
      "execution_count": 103,
      "outputs": [
        {
          "output_type": "stream",
          "text": [
            "{'Endereço': 'Av Paulista', 'Comodos': {'Banheiro': 2.88, 'Quarto 1': 8.25, 'Quarto 2': 8.25, 'Quarto 3': 10.5, 'Sala': 13.5, 'Cozinha': 18.0}}\n",
            "{'Endereço': 'Av Faria Lima', 'Comodos': {'Banheiro': 2.88, 'Quarto 1': 7.5, 'Quarto 2': 7.5, 'Quarto 3': 9.0, 'Sala': 12.0, 'Cozinha': 12.0}}\n"
          ],
          "name": "stdout"
        }
      ]
    },
    {
      "cell_type": "code",
      "metadata": {
        "colab": {
          "base_uri": "https://localhost:8080/"
        },
        "id": "XwwSm1S5Rylt",
        "outputId": "0d2fbfea-39cf-4446-b075-4d975a207d2a"
      },
      "source": [
        "for chave in MinhasCasas.keys():\n",
        "  print(chave)\n",
        "  for item in MinhasCasas[chave].items():\n",
        "    print(item)"
      ],
      "execution_count": 116,
      "outputs": [
        {
          "output_type": "stream",
          "text": [
            "Casa 57\n",
            "('Endereço', 'Av Paulista')\n",
            "('Comodos', {'Banheiro': 2.88, 'Quarto 1': 8.25, 'Quarto 2': 8.25, 'Quarto 3': 10.5, 'Sala': 13.5, 'Cozinha': 18.0})\n",
            "Casa 58\n",
            "('Endereço', 'Av Faria Lima')\n",
            "('Comodos', {'Banheiro': 2.88, 'Quarto 1': 7.5, 'Quarto 2': 7.5, 'Quarto 3': 9.0, 'Sala': 12.0, 'Cozinha': 12.0})\n"
          ],
          "name": "stdout"
        }
      ]
    },
    {
      "cell_type": "code",
      "metadata": {
        "colab": {
          "base_uri": "https://localhost:8080/"
        },
        "id": "HwOpLodpTby5",
        "outputId": "2c965764-dc17-4232-e015-f44dbcdbe2f0"
      },
      "source": [
        "areaComodo = 0\n",
        "\n",
        "for chave in MinhasCasas.keys():\n",
        "  print(chave)\n",
        "  for elemento in MinhasCasas[chave]['Comodos'].items():\n",
        "    if elemento[0] == 'Quarto 1':\n",
        "      areaComodo += elemento[1]\n",
        "      print(elemento)\n",
        "\n",
        "print(\"Total dos comodos:\", '%0.2f'%areaComodo)"
      ],
      "execution_count": 133,
      "outputs": [
        {
          "output_type": "stream",
          "text": [
            "Casa 57\n",
            "('Quarto 1', 8.25)\n",
            "Casa 58\n",
            "('Quarto 1', 7.5)\n",
            "Total dos comodos: 15.75\n"
          ],
          "name": "stdout"
        }
      ]
    }
  ]
}