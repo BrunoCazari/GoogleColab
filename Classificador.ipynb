{
  "nbformat": 4,
  "nbformat_minor": 0,
  "metadata": {
    "kernelspec": {
      "display_name": "Python 3",
      "language": "python",
      "name": "python3"
    },
    "language_info": {
      "codemirror_mode": {
        "name": "ipython",
        "version": 3
      },
      "file_extension": ".py",
      "mimetype": "text/x-python",
      "name": "python",
      "nbconvert_exporter": "python",
      "pygments_lexer": "ipython3",
      "version": "3.9.0"
    },
    "nav_menu": {
      "height": "264px",
      "width": "369px"
    },
    "toc": {
      "navigate_menu": true,
      "number_sections": true,
      "sideBar": true,
      "threshold": 6,
      "toc_cell": false,
      "toc_section_display": "block",
      "toc_window_display": false
    },
    "colab": {
      "name": "Classificador.ipynb",
      "provenance": []
    }
  },
  "cells": [
    {
      "cell_type": "code",
      "metadata": {
        "id": "Nh8ef_TIrn0_"
      },
      "source": [
        "import pandas as pd\n",
        "import numpy as np\n",
        "import matplotlib.pyplot as plt\n",
        "import seaborn as sns\n",
        "\n",
        "import pickle as pickle"
      ],
      "execution_count": 1,
      "outputs": []
    },
    {
      "cell_type": "markdown",
      "metadata": {
        "id": "xCJpau95shOa"
      },
      "source": [
        "# Nova seção"
      ]
    },
    {
      "cell_type": "code",
      "metadata": {
        "id": "rkvU5GQ9rn1A"
      },
      "source": [
        "from random import sample\n",
        "import random\n",
        "\n",
        "from sklearn import tree\n",
        "from sklearn.model_selection import cross_val_score\n",
        "from sklearn import metrics\n",
        "from IPython.display import Image\n",
        "from pydotplus import graph_from_dot_data"
      ],
      "execution_count": 2,
      "outputs": []
    },
    {
      "cell_type": "code",
      "metadata": {
        "id": "i9P5bzcvrn1B"
      },
      "source": [
        "df = pd.read_csv('https://raw.githubusercontent.com/diegonogare/GoogleColab/main/Telescope%20data.csv')\n",
        "\n",
        "np.random.seed(42)"
      ],
      "execution_count": 5,
      "outputs": []
    },
    {
      "cell_type": "code",
      "metadata": {
        "id": "-8C_oLI6rn1B",
        "outputId": "eb9f2c9d-8f04-4367-dddc-3ac3a0a035b6",
        "colab": {
          "base_uri": "https://localhost:8080/"
        }
      },
      "source": [
        "print(df['Class'])"
      ],
      "execution_count": 6,
      "outputs": [
        {
          "output_type": "stream",
          "text": [
            "0        g\n",
            "1        g\n",
            "2        g\n",
            "3        g\n",
            "4        g\n",
            "        ..\n",
            "19015    h\n",
            "19016    h\n",
            "19017    h\n",
            "19018    h\n",
            "19019    h\n",
            "Name: Class, Length: 19020, dtype: object\n"
          ],
          "name": "stdout"
        }
      ]
    },
    {
      "cell_type": "code",
      "metadata": {
        "id": "RFQIoguwrn1C"
      },
      "source": [
        "#one_hot_class = pd.get_dummies(df['Class'])\n",
        "#df = df.join(one_hot_class)\n",
        "\n",
        "df['Class_num'] = np.where(df['Class'] == 'g', 1.0, 0.0)"
      ],
      "execution_count": 7,
      "outputs": []
    },
    {
      "cell_type": "code",
      "metadata": {
        "id": "BseqQ3TVrn1C",
        "outputId": "d22235fd-0f52-4081-8748-233d1e12f0fa",
        "colab": {
          "base_uri": "https://localhost:8080/"
        }
      },
      "source": [
        "print('Dataset original')\n",
        "print('Hadron = ' + str(len(df[df['Class'] == 'h'])) )\n",
        "print('Gamma = ' + str(len(df[df['Class'] == 'g'])) )\n",
        "\n",
        "#print('Dataset com One Hot Encoding')\n",
        "#print('Hadron_onehot = ' + str(len(df[df['h'] == 1])) )\n",
        "#print('Gamma_onehot = ' + str(len(df[df['g'] == 1])) )\n",
        "\n",
        "print('Dataset com Class numerica')\n",
        "print('Hadron_num = ' + str(len(df[df['Class_num'] == 0])) )\n",
        "print('Gamma_num = ' + str(len(df[df['Class_num'] == 1])) )\n"
      ],
      "execution_count": 8,
      "outputs": [
        {
          "output_type": "stream",
          "text": [
            "Dataset original\n",
            "Hadron = 6688\n",
            "Gamma = 12332\n",
            "Dataset com Class numerica\n",
            "Hadron_num = 6688\n",
            "Gamma_num = 12332\n"
          ],
          "name": "stdout"
        }
      ]
    },
    {
      "cell_type": "code",
      "metadata": {
        "id": "euITu-M_rn1D"
      },
      "source": [
        "df = df.drop(['Class'],axis=1)"
      ],
      "execution_count": 9,
      "outputs": []
    },
    {
      "cell_type": "code",
      "metadata": {
        "id": "w2cRIY_yrn1E",
        "outputId": "e114d66c-6964-4b9a-daef-99be69ebd49f",
        "colab": {
          "base_uri": "https://localhost:8080/"
        }
      },
      "source": [
        "# Explore the data set\n",
        "col_names = df.columns.tolist()\n",
        "df.shape\n",
        "df.describe"
      ],
      "execution_count": 10,
      "outputs": [
        {
          "output_type": "execute_result",
          "data": {
            "text/plain": [
              "<bound method NDFrame.describe of         fLength    fWidth   fSize  ...   fAlpha     fDist  Class_num\n",
              "0       28.7967   16.0021  2.6449  ...  40.0920   81.8828        1.0\n",
              "1       31.6036   11.7235  2.5185  ...   6.3609  205.2610        1.0\n",
              "2      162.0520  136.0310  4.0612  ...  76.9600  256.7880        1.0\n",
              "3       23.8172    9.5728  2.3385  ...  10.4490  116.7370        1.0\n",
              "4       75.1362   30.9205  3.1611  ...   4.6480  356.4620        1.0\n",
              "...         ...       ...     ...  ...      ...       ...        ...\n",
              "19015   21.3846   10.9170  2.6161  ...   2.4229  106.8258        0.0\n",
              "19016   28.9452    6.7020  2.2672  ...  86.7975  247.4560        0.0\n",
              "19017   75.4455   47.5305  3.4483  ...  30.2987  256.5166        0.0\n",
              "19018  120.5135   76.9018  3.9939  ...  84.6874  408.3166        0.0\n",
              "19019  187.1814   53.0014  3.2093  ...  52.7310  272.3174        0.0\n",
              "\n",
              "[19020 rows x 11 columns]>"
            ]
          },
          "metadata": {
            "tags": []
          },
          "execution_count": 10
        }
      ]
    },
    {
      "cell_type": "code",
      "metadata": {
        "id": "x14KU3KXrn1E",
        "outputId": "9fc07edb-3cdf-4311-8a9c-1a3368c90e21",
        "colab": {
          "base_uri": "https://localhost:8080/",
          "height": 608
        }
      },
      "source": [
        "# Correlation heatmap\n",
        "correlation = df.corr()\n",
        "plt.figure(figsize=(10, 10))\n",
        "\n",
        "sns.heatmap(correlation, vmax=1, square=True, annot=True, cmap='cubehelix')\n"
      ],
      "execution_count": 11,
      "outputs": [
        {
          "output_type": "execute_result",
          "data": {
            "text/plain": [
              "<matplotlib.axes._subplots.AxesSubplot at 0x7fd6e0892750>"
            ]
          },
          "metadata": {
            "tags": []
          },
          "execution_count": 11
        },
        {
          "output_type": "display_data",
          "data": {
            "image/png": "[encoded data removed]",
            "text/plain": [
              "<Figure size 720x720 with 2 Axes>"
            ]
          },
          "metadata": {
            "tags": [],
            "needs_background": "light"
          }
        }
      ]
    },
    {
      "cell_type": "code",
      "metadata": {
        "id": "ZKW8cZe5rn1F"
      },
      "source": [
        "# Pairwise plots (take a 5% sample as CPU intensive)\n",
        "#df_sample = df.sample(frac=0.05)\n",
        "#pplot = sns.pairplot(df_sample, hue=\"Class\");\n"
      ],
      "execution_count": null,
      "outputs": []
    },
    {
      "cell_type": "code",
      "metadata": {
        "id": "fRS2D_7trn1G",
        "outputId": "15ce0846-6381-4d5f-c05f-7cab1c90685d",
        "colab": {
          "base_uri": "https://localhost:8080/"
        }
      },
      "source": [
        "# Split data into train, test and validate\n",
        "# 80% - train set, 20% - validation set\n",
        "train, test = np.split( df.sample(frac=1), [int(.8*len(df))])\n",
        "\n",
        "print(train.shape, test.shape)\n",
        "\n",
        "# Separate target and predictors\n",
        "y_train = train['Class_num']\n",
        "x_train = train.drop(['Class_num'], axis=1)\n",
        "y_test = test['Class_num']\n",
        "x_test = test.drop(['Class_num'], axis=1)\n"
      ],
      "execution_count": 12,
      "outputs": [
        {
          "output_type": "stream",
          "text": [
            "(15216, 11) (3804, 11)\n"
          ],
          "name": "stdout"
        }
      ]
    },
    {
      "cell_type": "code",
      "metadata": {
        "id": "EvWeXgjyrn1I"
      },
      "source": [
        "# Create variable lists and drop\n",
        "all_vars = x_train.columns.tolist()\n",
        "top_5_vars = ['fAlpha', 'fLength', 'fWidth', 'fSize', 'fM3Long']\n",
        "bottom_vars = [cols for cols in all_vars if cols not in top_5_vars]\n",
        "\n",
        "# Drop less important variables leaving the top_5\n",
        "x_train    = x_train.drop(bottom_vars, axis=1)\n",
        "x_test     = x_test.drop(bottom_vars, axis=1)\n"
      ],
      "execution_count": 13,
      "outputs": []
    },
    {
      "cell_type": "code",
      "metadata": {
        "id": "vByThUJXrn1K"
      },
      "source": [
        "# Instantiate with a max depth of 3\n",
        "tree_model = tree.DecisionTreeClassifier(max_depth=3)\n",
        "# Fit a decision tree\n",
        "tree_model = tree_model.fit(x_train, y_train)\n",
        "# Training accuracy\n",
        "tree_model.score(x_train, y_train)\n",
        "\n",
        "# Predictions/probs on the test dataset\n",
        "predicted = pd.DataFrame(tree_model.predict(x_test))\n",
        "probs = pd.DataFrame(tree_model.predict_proba(x_test))\n",
        "\n",
        "# Store metrics\n",
        "tree_accuracy = metrics.accuracy_score(y_test, predicted)\n",
        "tree_roc_auc = metrics.roc_auc_score(y_test, probs[1])\n",
        "tree_confus_matrix = metrics.confusion_matrix(y_test, predicted)\n",
        "tree_classification_report = metrics.classification_report(y_test, predicted)\n",
        "tree_precision = metrics.precision_score(y_test, predicted, pos_label=1)\n",
        "tree_recall = metrics.recall_score(y_test, predicted, pos_label=1)\n",
        "tree_f1 = metrics.f1_score(y_test, predicted, pos_label=1)"
      ],
      "execution_count": 14,
      "outputs": []
    },
    {
      "cell_type": "code",
      "metadata": {
        "id": "R6oh0VFMrn1K",
        "outputId": "2c8084d4-844a-4c29-f54f-953af3a3f9f7",
        "colab": {
          "base_uri": "https://localhost:8080/",
          "height": 419
        }
      },
      "source": [
        "predicted"
      ],
      "execution_count": 15,
      "outputs": [
        {
          "output_type": "execute_result",
          "data": {
            "text/html": [
              "<div>\n",
              "<style scoped>\n",
              "    .dataframe tbody tr th:only-of-type {\n",
              "        vertical-align: middle;\n",
              "    }\n",
              "\n",
              "    .dataframe tbody tr th {\n",
              "        vertical-align: top;\n",
              "    }\n",
              "\n",
              "    .dataframe thead th {\n",
              "        text-align: right;\n",
              "    }\n",
              "</style>\n",
              "<table border=\"1\" class=\"dataframe\">\n",
              "  <thead>\n",
              "    <tr style=\"text-align: right;\">\n",
              "      <th></th>\n",
              "      <th>0</th>\n",
              "    </tr>\n",
              "  </thead>\n",
              "  <tbody>\n",
              "    <tr>\n",
              "      <th>0</th>\n",
              "      <td>1.0</td>\n",
              "    </tr>\n",
              "    <tr>\n",
              "      <th>1</th>\n",
              "      <td>0.0</td>\n",
              "    </tr>\n",
              "    <tr>\n",
              "      <th>2</th>\n",
              "      <td>1.0</td>\n",
              "    </tr>\n",
              "    <tr>\n",
              "      <th>3</th>\n",
              "      <td>1.0</td>\n",
              "    </tr>\n",
              "    <tr>\n",
              "      <th>4</th>\n",
              "      <td>1.0</td>\n",
              "    </tr>\n",
              "    <tr>\n",
              "      <th>...</th>\n",
              "      <td>...</td>\n",
              "    </tr>\n",
              "    <tr>\n",
              "      <th>3799</th>\n",
              "      <td>1.0</td>\n",
              "    </tr>\n",
              "    <tr>\n",
              "      <th>3800</th>\n",
              "      <td>1.0</td>\n",
              "    </tr>\n",
              "    <tr>\n",
              "      <th>3801</th>\n",
              "      <td>1.0</td>\n",
              "    </tr>\n",
              "    <tr>\n",
              "      <th>3802</th>\n",
              "      <td>0.0</td>\n",
              "    </tr>\n",
              "    <tr>\n",
              "      <th>3803</th>\n",
              "      <td>0.0</td>\n",
              "    </tr>\n",
              "  </tbody>\n",
              "</table>\n",
              "<p>3804 rows × 1 columns</p>\n",
              "</div>"
            ],
            "text/plain": [
              "        0\n",
              "0     1.0\n",
              "1     0.0\n",
              "2     1.0\n",
              "3     1.0\n",
              "4     1.0\n",
              "...   ...\n",
              "3799  1.0\n",
              "3800  1.0\n",
              "3801  1.0\n",
              "3802  0.0\n",
              "3803  0.0\n",
              "\n",
              "[3804 rows x 1 columns]"
            ]
          },
          "metadata": {
            "tags": []
          },
          "execution_count": 15
        }
      ]
    },
    {
      "cell_type": "code",
      "metadata": {
        "id": "cb02O_V8rn1L",
        "outputId": "ed4065b1-76be-4f9d-fcf5-43256f784185",
        "colab": {
          "base_uri": "https://localhost:8080/",
          "height": 419
        }
      },
      "source": [
        "probs"
      ],
      "execution_count": 16,
      "outputs": [
        {
          "output_type": "execute_result",
          "data": {
            "text/html": [
              "<div>\n",
              "<style scoped>\n",
              "    .dataframe tbody tr th:only-of-type {\n",
              "        vertical-align: middle;\n",
              "    }\n",
              "\n",
              "    .dataframe tbody tr th {\n",
              "        vertical-align: top;\n",
              "    }\n",
              "\n",
              "    .dataframe thead th {\n",
              "        text-align: right;\n",
              "    }\n",
              "</style>\n",
              "<table border=\"1\" class=\"dataframe\">\n",
              "  <thead>\n",
              "    <tr style=\"text-align: right;\">\n",
              "      <th></th>\n",
              "      <th>0</th>\n",
              "      <th>1</th>\n",
              "    </tr>\n",
              "  </thead>\n",
              "  <tbody>\n",
              "    <tr>\n",
              "      <th>0</th>\n",
              "      <td>0.092008</td>\n",
              "      <td>0.907992</td>\n",
              "    </tr>\n",
              "    <tr>\n",
              "      <th>1</th>\n",
              "      <td>0.779661</td>\n",
              "      <td>0.220339</td>\n",
              "    </tr>\n",
              "    <tr>\n",
              "      <th>2</th>\n",
              "      <td>0.293103</td>\n",
              "      <td>0.706897</td>\n",
              "    </tr>\n",
              "    <tr>\n",
              "      <th>3</th>\n",
              "      <td>0.092008</td>\n",
              "      <td>0.907992</td>\n",
              "    </tr>\n",
              "    <tr>\n",
              "      <th>4</th>\n",
              "      <td>0.092008</td>\n",
              "      <td>0.907992</td>\n",
              "    </tr>\n",
              "    <tr>\n",
              "      <th>...</th>\n",
              "      <td>...</td>\n",
              "      <td>...</td>\n",
              "    </tr>\n",
              "    <tr>\n",
              "      <th>3799</th>\n",
              "      <td>0.092008</td>\n",
              "      <td>0.907992</td>\n",
              "    </tr>\n",
              "    <tr>\n",
              "      <th>3800</th>\n",
              "      <td>0.092008</td>\n",
              "      <td>0.907992</td>\n",
              "    </tr>\n",
              "    <tr>\n",
              "      <th>3801</th>\n",
              "      <td>0.277337</td>\n",
              "      <td>0.722663</td>\n",
              "    </tr>\n",
              "    <tr>\n",
              "      <th>3802</th>\n",
              "      <td>0.551746</td>\n",
              "      <td>0.448254</td>\n",
              "    </tr>\n",
              "    <tr>\n",
              "      <th>3803</th>\n",
              "      <td>0.779661</td>\n",
              "      <td>0.220339</td>\n",
              "    </tr>\n",
              "  </tbody>\n",
              "</table>\n",
              "<p>3804 rows × 2 columns</p>\n",
              "</div>"
            ],
            "text/plain": [
              "             0         1\n",
              "0     0.092008  0.907992\n",
              "1     0.779661  0.220339\n",
              "2     0.293103  0.706897\n",
              "3     0.092008  0.907992\n",
              "4     0.092008  0.907992\n",
              "...        ...       ...\n",
              "3799  0.092008  0.907992\n",
              "3800  0.092008  0.907992\n",
              "3801  0.277337  0.722663\n",
              "3802  0.551746  0.448254\n",
              "3803  0.779661  0.220339\n",
              "\n",
              "[3804 rows x 2 columns]"
            ]
          },
          "metadata": {
            "tags": []
          },
          "execution_count": 16
        }
      ]
    },
    {
      "cell_type": "code",
      "metadata": {
        "id": "ReQlR9bsrn1L",
        "outputId": "626c64c0-0e4d-4618-b115-62008143dc5b",
        "colab": {
          "base_uri": "https://localhost:8080/"
        }
      },
      "source": [
        "tree_roc_auc"
      ],
      "execution_count": 17,
      "outputs": [
        {
          "output_type": "execute_result",
          "data": {
            "text/plain": [
              "0.8205697414875548"
            ]
          },
          "metadata": {
            "tags": []
          },
          "execution_count": 17
        }
      ]
    },
    {
      "cell_type": "code",
      "metadata": {
        "id": "mx_IDmunrn1M",
        "outputId": "124926b9-6f29-4cfd-9f73-d8117115fe36",
        "colab": {
          "base_uri": "https://localhost:8080/"
        }
      },
      "source": [
        "# Evaluate the model using 10-fold cross-validation\n",
        "tree_cv_scores = cross_val_score(tree.DecisionTreeClassifier(max_depth=3),\n",
        "                                x_test, y_test, scoring='precision', cv=10)\n",
        "\n",
        "tree_cv_mean = np.mean(tree_cv_scores)\n",
        "\n",
        "# Output decision plot\n",
        "dot_data = tree.export_graphviz(tree_model, out_file=None,\n",
        "                     feature_names=x_test.columns.tolist(),\n",
        "                     class_names=['g', 'h'],\n",
        "                     filled=True, rounded=True,\n",
        "                     special_characters=True)\n",
        "#print(dot_data)\n",
        "\n",
        "graph = graph_from_dot_data(dot_data)\n",
        "graph.write_png(\"CTA_DT.png\")"
      ],
      "execution_count": 18,
      "outputs": [
        {
          "output_type": "execute_result",
          "data": {
            "text/plain": [
              "True"
            ]
          },
          "metadata": {
            "tags": []
          },
          "execution_count": 18
        }
      ]
    },
    {
      "cell_type": "code",
      "metadata": {
        "id": "db3yAaaBrn1N"
      },
      "source": [
        "# EVALUATE\n",
        "models = pd.DataFrame({\n",
        "    'Modelo'    : ['Decision Tree'],\n",
        "    'Acurácia' : [tree_accuracy],\n",
        "    'Precisão': [tree_precision],\n",
        "    'Recall'   : [tree_recall],\n",
        "    'F1'       : [tree_f1],\n",
        "    'AUC (Curva ROC)' : [tree_roc_auc]\n",
        "    })\n",
        "\n",
        "# Create x and y from all data\n",
        "#y = df['Class_num']\n",
        "#x = df.drop(['Class_num'], axis=1)\n"
      ],
      "execution_count": 19,
      "outputs": []
    },
    {
      "cell_type": "code",
      "metadata": {
        "id": "o5Kwd9cDrn1N",
        "outputId": "5fa0d131-bf1b-45fe-97b1-afc07bc96864",
        "colab": {
          "base_uri": "https://localhost:8080/",
          "height": 80
        }
      },
      "source": [
        "models\n",
        "#print(tree_confus_matrix)"
      ],
      "execution_count": 20,
      "outputs": [
        {
          "output_type": "execute_result",
          "data": {
            "text/html": [
              "<div>\n",
              "<style scoped>\n",
              "    .dataframe tbody tr th:only-of-type {\n",
              "        vertical-align: middle;\n",
              "    }\n",
              "\n",
              "    .dataframe tbody tr th {\n",
              "        vertical-align: top;\n",
              "    }\n",
              "\n",
              "    .dataframe thead th {\n",
              "        text-align: right;\n",
              "    }\n",
              "</style>\n",
              "<table border=\"1\" class=\"dataframe\">\n",
              "  <thead>\n",
              "    <tr style=\"text-align: right;\">\n",
              "      <th></th>\n",
              "      <th>Modelo</th>\n",
              "      <th>Acurácia</th>\n",
              "      <th>Precisão</th>\n",
              "      <th>Recall</th>\n",
              "      <th>F1</th>\n",
              "      <th>AUC (Curva ROC)</th>\n",
              "    </tr>\n",
              "  </thead>\n",
              "  <tbody>\n",
              "    <tr>\n",
              "      <th>0</th>\n",
              "      <td>Decision Tree</td>\n",
              "      <td>0.794427</td>\n",
              "      <td>0.813264</td>\n",
              "      <td>0.887586</td>\n",
              "      <td>0.848801</td>\n",
              "      <td>0.82057</td>\n",
              "    </tr>\n",
              "  </tbody>\n",
              "</table>\n",
              "</div>"
            ],
            "text/plain": [
              "          Modelo  Acurácia  Precisão    Recall        F1  AUC (Curva ROC)\n",
              "0  Decision Tree  0.794427  0.813264  0.887586  0.848801          0.82057"
            ]
          },
          "metadata": {
            "tags": []
          },
          "execution_count": 20
        }
      ]
    },
    {
      "cell_type": "code",
      "metadata": {
        "id": "wJrpy7JNrn1N"
      },
      "source": [
        "# Save model\n",
        "with open('CTA_DT.pkl', 'wb') as DT_Telescopio:\n",
        "    pickle.dump(tree_model, DT_Telescopio)"
      ],
      "execution_count": 22,
      "outputs": []
    },
    {
      "cell_type": "code",
      "metadata": {
        "id": "4LgTCcJurn1O",
        "outputId": "0b9500c0-30e8-402a-9cbb-4c3613f304a3",
        "colab": {
          "base_uri": "https://localhost:8080/"
        }
      },
      "source": [
        "#umaLinha = pd.DataFrame({\n",
        "#    'fLength':[19.2512],\n",
        "#    'fWidth':[14.7951],\n",
        "#    'fSize':[2.2954],\n",
        "#    'fM3Long':[8.9581],\n",
        "#    'fAlpha':[51.6492]  \n",
        "#})\n",
        "\n",
        "\n",
        "linhaAleatoria = int(random.random()*len(df))\n",
        "df.iloc[linhaAleatoria]\n",
        "\n",
        "#print(df.head(1))\n",
        "#print(umaLinha)"
      ],
      "execution_count": 23,
      "outputs": [
        {
          "output_type": "execute_result",
          "data": {
            "text/plain": [
              "fLength       13.0679\n",
              "fWidth        10.7972\n",
              "fSize          2.1287\n",
              "fConc          0.7658\n",
              "fConcl         0.4647\n",
              "fAsym         13.7665\n",
              "fM3Long       -4.3048\n",
              "fM3Trans      10.1883\n",
              "fAlpha        84.7088\n",
              "fDist        273.6620\n",
              "Class_num      1.0000\n",
              "Name: 9008, dtype: float64"
            ]
          },
          "metadata": {
            "tags": []
          },
          "execution_count": 23
        }
      ]
    }
  ]
}